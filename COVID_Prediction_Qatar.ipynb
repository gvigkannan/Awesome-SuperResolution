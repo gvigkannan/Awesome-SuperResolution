{
  "nbformat": 4,
  "nbformat_minor": 0,
  "metadata": {
    "colab": {
      "name": "COVID_Prediction_Qatar.ipynb",
      "provenance": [],
      "collapsed_sections": [],
      "machine_shape": "hm",
      "authorship_tag": "ABX9TyMffhsaK4bF6YIGZzHHx6Ex",
      "include_colab_link": true
    },
    "kernelspec": {
      "name": "python3",
      "display_name": "Python 3"
    },
    "language_info": {
      "name": "python"
    },
    "accelerator": "GPU",
    "widgets": {
      "application/vnd.jupyter.widget-state+json": {
        "93972a278acf4f8f9c552c16756b93e0": {
          "model_module": "@jupyter-widgets/controls",
          "model_name": "HBoxModel",
          "state": {
            "_view_name": "HBoxView",
            "_dom_classes": [],
            "_model_name": "HBoxModel",
            "_view_module": "@jupyter-widgets/controls",
            "_model_module_version": "1.5.0",
            "_view_count": null,
            "_view_module_version": "1.5.0",
            "box_style": "",
            "layout": "IPY_MODEL_eaa7ac1ea99a4db4a44eb5a79d644d50",
            "_model_module": "@jupyter-widgets/controls",
            "children": [
              "IPY_MODEL_1d68904d5b7a412db3ac695977ed3ace",
              "IPY_MODEL_4f8657d541494e7d8ceb82cb20b2965d"
            ]
          }
        },
        "eaa7ac1ea99a4db4a44eb5a79d644d50": {
          "model_module": "@jupyter-widgets/base",
          "model_name": "LayoutModel",
          "state": {
            "_view_name": "LayoutView",
            "grid_template_rows": null,
            "right": null,
            "justify_content": null,
            "_view_module": "@jupyter-widgets/base",
            "overflow": null,
            "_model_module_version": "1.2.0",
            "_view_count": null,
            "flex_flow": null,
            "width": null,
            "min_width": null,
            "border": null,
            "align_items": null,
            "bottom": null,
            "_model_module": "@jupyter-widgets/base",
            "top": null,
            "grid_column": null,
            "overflow_y": null,
            "overflow_x": null,
            "grid_auto_flow": null,
            "grid_area": null,
            "grid_template_columns": null,
            "flex": null,
            "_model_name": "LayoutModel",
            "justify_items": null,
            "grid_row": null,
            "max_height": null,
            "align_content": null,
            "visibility": null,
            "align_self": null,
            "height": null,
            "min_height": null,
            "padding": null,
            "grid_auto_rows": null,
            "grid_gap": null,
            "max_width": null,
            "order": null,
            "_view_module_version": "1.2.0",
            "grid_template_areas": null,
            "object_position": null,
            "object_fit": null,
            "grid_auto_columns": null,
            "margin": null,
            "display": null,
            "left": null
          }
        },
        "1d68904d5b7a412db3ac695977ed3ace": {
          "model_module": "@jupyter-widgets/controls",
          "model_name": "FloatProgressModel",
          "state": {
            "_view_name": "ProgressView",
            "style": "IPY_MODEL_957358680ea1453a8b91eb44b350f391",
            "_dom_classes": [],
            "description": "100%",
            "_model_name": "FloatProgressModel",
            "bar_style": "success",
            "max": 150,
            "_view_module": "@jupyter-widgets/controls",
            "_model_module_version": "1.5.0",
            "value": 150,
            "_view_count": null,
            "_view_module_version": "1.5.0",
            "orientation": "horizontal",
            "min": 0,
            "description_tooltip": null,
            "_model_module": "@jupyter-widgets/controls",
            "layout": "IPY_MODEL_ef0da2acf7164c08a1247021967c2611"
          }
        },
        "4f8657d541494e7d8ceb82cb20b2965d": {
          "model_module": "@jupyter-widgets/controls",
          "model_name": "HTMLModel",
          "state": {
            "_view_name": "HTMLView",
            "style": "IPY_MODEL_8a9bccb21f3b49708acdb5d089d03ff5",
            "_dom_classes": [],
            "description": "",
            "_model_name": "HTMLModel",
            "placeholder": "​",
            "_view_module": "@jupyter-widgets/controls",
            "_model_module_version": "1.5.0",
            "value": " 150/150 [07:23&lt;00:00,  2.96s/it]",
            "_view_count": null,
            "_view_module_version": "1.5.0",
            "description_tooltip": null,
            "_model_module": "@jupyter-widgets/controls",
            "layout": "IPY_MODEL_f5e373af65be49b1b929831e6c5bdb95"
          }
        },
        "957358680ea1453a8b91eb44b350f391": {
          "model_module": "@jupyter-widgets/controls",
          "model_name": "ProgressStyleModel",
          "state": {
            "_view_name": "StyleView",
            "_model_name": "ProgressStyleModel",
            "description_width": "initial",
            "_view_module": "@jupyter-widgets/base",
            "_model_module_version": "1.5.0",
            "_view_count": null,
            "_view_module_version": "1.2.0",
            "bar_color": null,
            "_model_module": "@jupyter-widgets/controls"
          }
        },
        "ef0da2acf7164c08a1247021967c2611": {
          "model_module": "@jupyter-widgets/base",
          "model_name": "LayoutModel",
          "state": {
            "_view_name": "LayoutView",
            "grid_template_rows": null,
            "right": null,
            "justify_content": null,
            "_view_module": "@jupyter-widgets/base",
            "overflow": null,
            "_model_module_version": "1.2.0",
            "_view_count": null,
            "flex_flow": null,
            "width": null,
            "min_width": null,
            "border": null,
            "align_items": null,
            "bottom": null,
            "_model_module": "@jupyter-widgets/base",
            "top": null,
            "grid_column": null,
            "overflow_y": null,
            "overflow_x": null,
            "grid_auto_flow": null,
            "grid_area": null,
            "grid_template_columns": null,
            "flex": null,
            "_model_name": "LayoutModel",
            "justify_items": null,
            "grid_row": null,
            "max_height": null,
            "align_content": null,
            "visibility": null,
            "align_self": null,
            "height": null,
            "min_height": null,
            "padding": null,
            "grid_auto_rows": null,
            "grid_gap": null,
            "max_width": null,
            "order": null,
            "_view_module_version": "1.2.0",
            "grid_template_areas": null,
            "object_position": null,
            "object_fit": null,
            "grid_auto_columns": null,
            "margin": null,
            "display": null,
            "left": null
          }
        },
        "8a9bccb21f3b49708acdb5d089d03ff5": {
          "model_module": "@jupyter-widgets/controls",
          "model_name": "DescriptionStyleModel",
          "state": {
            "_view_name": "StyleView",
            "_model_name": "DescriptionStyleModel",
            "description_width": "",
            "_view_module": "@jupyter-widgets/base",
            "_model_module_version": "1.5.0",
            "_view_count": null,
            "_view_module_version": "1.2.0",
            "_model_module": "@jupyter-widgets/controls"
          }
        },
        "f5e373af65be49b1b929831e6c5bdb95": {
          "model_module": "@jupyter-widgets/base",
          "model_name": "LayoutModel",
          "state": {
            "_view_name": "LayoutView",
            "grid_template_rows": null,
            "right": null,
            "justify_content": null,
            "_view_module": "@jupyter-widgets/base",
            "overflow": null,
            "_model_module_version": "1.2.0",
            "_view_count": null,
            "flex_flow": null,
            "width": null,
            "min_width": null,
            "border": null,
            "align_items": null,
            "bottom": null,
            "_model_module": "@jupyter-widgets/base",
            "top": null,
            "grid_column": null,
            "overflow_y": null,
            "overflow_x": null,
            "grid_auto_flow": null,
            "grid_area": null,
            "grid_template_columns": null,
            "flex": null,
            "_model_name": "LayoutModel",
            "justify_items": null,
            "grid_row": null,
            "max_height": null,
            "align_content": null,
            "visibility": null,
            "align_self": null,
            "height": null,
            "min_height": null,
            "padding": null,
            "grid_auto_rows": null,
            "grid_gap": null,
            "max_width": null,
            "order": null,
            "_view_module_version": "1.2.0",
            "grid_template_areas": null,
            "object_position": null,
            "object_fit": null,
            "grid_auto_columns": null,
            "margin": null,
            "display": null,
            "left": null
          }
        }
      }
    }
  },
  "cells": [
    {
      "cell_type": "markdown",
      "metadata": {
        "id": "view-in-github",
        "colab_type": "text"
      },
      "source": [
        "<a href=\"https://colab.research.google.com/github/gvigkannan/Awesome-SuperResolution/blob/master/COVID_Prediction_Qatar.ipynb\" target=\"_parent\"><img src=\"https://colab.research.google.com/assets/colab-badge.svg\" alt=\"Open In Colab\"/></a>"
      ]
    },
    {
      "cell_type": "code",
      "metadata": {
        "id": "uAkNoB59UAB4"
      },
      "source": [
        "from __future__ import print_function, division\n",
        "import numpy as np\n",
        "import time\n",
        "import os \n",
        "import copy\n",
        "import matplotlib.pyplot as plt\n",
        "from tqdm.auto import tqdm\n",
        "import glob\n",
        "import pandas as pd\n",
        "import csv\n",
        "from PIL import Image, ImageOps\n",
        "import cv2\n",
        "from collections import OrderedDict"
      ],
      "execution_count": null,
      "outputs": []
    },
    {
      "cell_type": "code",
      "metadata": {
        "id": "QWEAxRlqUE9i"
      },
      "source": [
        "import torch \n",
        "import torch.nn as nn\n",
        "import torch.optim as optim\n",
        "from torch.optim import lr_scheduler\n",
        "import torchvision, torchsummary\n",
        "from torchvision import datasets, models, transforms as T\n",
        "from torch.utils.data import Dataset, DataLoader, TensorDataset\n",
        "from torchvision.datasets import ImageFolder\n",
        "from torch.utils.tensorboard import SummaryWriter"
      ],
      "execution_count": null,
      "outputs": []
    },
    {
      "cell_type": "code",
      "metadata": {
        "colab": {
          "base_uri": "https://localhost:8080/"
        },
        "id": "o3RBq_qhUGZ2",
        "outputId": "2153d4a6-5f95-497e-ca2f-ea54d7dcbe12"
      },
      "source": [
        "## XRay Vision Model\n",
        "## Downloading Torch XRay vision Models\n",
        "!pip install torchxrayvision\n",
        "import torchxrayvision as xrv"
      ],
      "execution_count": null,
      "outputs": [
        {
          "output_type": "stream",
          "text": [
            "Requirement already satisfied: torchxrayvision in /usr/local/lib/python3.7/dist-packages (0.0.25)\n",
            "Requirement already satisfied: numpy>=1 in /usr/local/lib/python3.7/dist-packages (from torchxrayvision) (1.19.5)\n",
            "Requirement already satisfied: requests>=1 in /usr/local/lib/python3.7/dist-packages (from torchxrayvision) (2.23.0)\n",
            "Requirement already satisfied: tqdm>=4 in /usr/local/lib/python3.7/dist-packages (from torchxrayvision) (4.41.1)\n",
            "Requirement already satisfied: torchvision>=0.5 in /usr/local/lib/python3.7/dist-packages (from torchxrayvision) (0.9.1+cu101)\n",
            "Requirement already satisfied: pandas>=1 in /usr/local/lib/python3.7/dist-packages (from torchxrayvision) (1.1.5)\n",
            "Requirement already satisfied: scikit-image>=0.16 in /usr/local/lib/python3.7/dist-packages (from torchxrayvision) (0.16.2)\n",
            "Requirement already satisfied: pydicom>=1 in /usr/local/lib/python3.7/dist-packages (from torchxrayvision) (2.1.2)\n",
            "Requirement already satisfied: torch>=1 in /usr/local/lib/python3.7/dist-packages (from torchxrayvision) (1.8.1+cu101)\n",
            "Requirement already satisfied: chardet<4,>=3.0.2 in /usr/local/lib/python3.7/dist-packages (from requests>=1->torchxrayvision) (3.0.4)\n",
            "Requirement already satisfied: certifi>=2017.4.17 in /usr/local/lib/python3.7/dist-packages (from requests>=1->torchxrayvision) (2020.12.5)\n",
            "Requirement already satisfied: idna<3,>=2.5 in /usr/local/lib/python3.7/dist-packages (from requests>=1->torchxrayvision) (2.10)\n",
            "Requirement already satisfied: urllib3!=1.25.0,!=1.25.1,<1.26,>=1.21.1 in /usr/local/lib/python3.7/dist-packages (from requests>=1->torchxrayvision) (1.24.3)\n",
            "Requirement already satisfied: pillow>=4.1.1 in /usr/local/lib/python3.7/dist-packages (from torchvision>=0.5->torchxrayvision) (7.1.2)\n",
            "Requirement already satisfied: pytz>=2017.2 in /usr/local/lib/python3.7/dist-packages (from pandas>=1->torchxrayvision) (2018.9)\n",
            "Requirement already satisfied: python-dateutil>=2.7.3 in /usr/local/lib/python3.7/dist-packages (from pandas>=1->torchxrayvision) (2.8.1)\n",
            "Requirement already satisfied: networkx>=2.0 in /usr/local/lib/python3.7/dist-packages (from scikit-image>=0.16->torchxrayvision) (2.5.1)\n",
            "Requirement already satisfied: matplotlib!=3.0.0,>=2.0.0 in /usr/local/lib/python3.7/dist-packages (from scikit-image>=0.16->torchxrayvision) (3.2.2)\n",
            "Requirement already satisfied: imageio>=2.3.0 in /usr/local/lib/python3.7/dist-packages (from scikit-image>=0.16->torchxrayvision) (2.4.1)\n",
            "Requirement already satisfied: scipy>=0.19.0 in /usr/local/lib/python3.7/dist-packages (from scikit-image>=0.16->torchxrayvision) (1.4.1)\n",
            "Requirement already satisfied: PyWavelets>=0.4.0 in /usr/local/lib/python3.7/dist-packages (from scikit-image>=0.16->torchxrayvision) (1.1.1)\n",
            "Requirement already satisfied: typing-extensions in /usr/local/lib/python3.7/dist-packages (from torch>=1->torchxrayvision) (3.7.4.3)\n",
            "Requirement already satisfied: six>=1.5 in /usr/local/lib/python3.7/dist-packages (from python-dateutil>=2.7.3->pandas>=1->torchxrayvision) (1.15.0)\n",
            "Requirement already satisfied: decorator<5,>=4.3 in /usr/local/lib/python3.7/dist-packages (from networkx>=2.0->scikit-image>=0.16->torchxrayvision) (4.4.2)\n",
            "Requirement already satisfied: pyparsing!=2.0.4,!=2.1.2,!=2.1.6,>=2.0.1 in /usr/local/lib/python3.7/dist-packages (from matplotlib!=3.0.0,>=2.0.0->scikit-image>=0.16->torchxrayvision) (2.4.7)\n",
            "Requirement already satisfied: kiwisolver>=1.0.1 in /usr/local/lib/python3.7/dist-packages (from matplotlib!=3.0.0,>=2.0.0->scikit-image>=0.16->torchxrayvision) (1.3.1)\n",
            "Requirement already satisfied: cycler>=0.10 in /usr/local/lib/python3.7/dist-packages (from matplotlib!=3.0.0,>=2.0.0->scikit-image>=0.16->torchxrayvision) (0.10.0)\n"
          ],
          "name": "stdout"
        }
      ]
    },
    {
      "cell_type": "markdown",
      "metadata": {
        "id": "8u9xlOsiU3CV"
      },
      "source": [
        "## Drive and Random State"
      ]
    },
    {
      "cell_type": "code",
      "metadata": {
        "colab": {
          "base_uri": "https://localhost:8080/"
        },
        "id": "zeXSiKBuU1Es",
        "outputId": "9d533a11-f8e7-47e5-d84c-b1e063a700e8"
      },
      "source": [
        "## To access the drive files!\n",
        "from google.colab import drive\n",
        "drive.mount(\"/content/drive\")"
      ],
      "execution_count": null,
      "outputs": [
        {
          "output_type": "stream",
          "text": [
            "Drive already mounted at /content/drive; to attempt to forcibly remount, call drive.mount(\"/content/drive\", force_remount=True).\n"
          ],
          "name": "stdout"
        }
      ]
    },
    {
      "cell_type": "code",
      "metadata": {
        "id": "fppUSaleU2Tm"
      },
      "source": [
        "def set_state(random_seed):\n",
        "  np.random.seed(random_seed)\n",
        "  torch.manual_seed(random_seed)\n",
        "  "
      ],
      "execution_count": null,
      "outputs": []
    },
    {
      "cell_type": "markdown",
      "metadata": {
        "id": "F4TenjDAU60c"
      },
      "source": [
        "## Hyperparam\n"
      ]
    },
    {
      "cell_type": "code",
      "metadata": {
        "id": "brhKEmcaU6TE"
      },
      "source": [
        "## Hyperparams!\n",
        "STEP_FLAG = False\n",
        "EPOCHS = 25\n",
        "BATCH_SIZE = 128\n",
        "LEARNING_RATE = 0.01\n",
        "RANDOM_STATE = 0\n",
        "MODEL_NAME = \"_\".join((\"COVID_Fusic_RS\"+str(RANDOM_STATE),\"E\"+str(EPOCHS),\"Clf_v1\"))\n",
        "MODEL_PATH = \"/content/drive/MyDrive/Models\"\n",
        "set_state(RANDOM_STATE)"
      ],
      "execution_count": null,
      "outputs": []
    },
    {
      "cell_type": "code",
      "metadata": {
        "colab": {
          "base_uri": "https://localhost:8080/"
        },
        "id": "WLFlBP96VEGc",
        "outputId": "1bd611db-4874-467b-aabb-0c8aa474e0a1"
      },
      "source": [
        "print(MODEL_NAME)"
      ],
      "execution_count": null,
      "outputs": [
        {
          "output_type": "stream",
          "text": [
            "COVID_Fusic_RS0_E25_Clf_v1\n"
          ],
          "name": "stdout"
        }
      ]
    },
    {
      "cell_type": "code",
      "metadata": {
        "id": "cBY2jogXVS7w"
      },
      "source": [
        "## Loading the dataset\n",
        "IMG_DIR = \"/content/drive/MyDrive/Dataset/COVID_Detection/DATA_300\"\n",
        "# data_fnames = os.listdir(IMG_DIR)\n",
        "# use_cols = ['Filename', \n",
        "#             'BrixiaScoreGlobal']\n",
        "#             # 'Brixia_RegionA', \n",
        "#             # 'Brixia_RegionB', \n",
        "#             # 'Brixia_RegionC', \n",
        "#             # 'Brixia_RegionD', \n",
        "#             # 'Brixia_RegionE', \n",
        "#             # 'Brixia_RegionF']\n",
        "# annot_train = pd.read_csv(\"/content/drive/MyDrive/Dataset/brixia_raw_monochrome_306/BRIXIA_RAW_MONOCRHOME_RS0_train_v1.csv\", usecols = use_cols)\n",
        "# annot_test = pd.read_csv(\"/content/drive/MyDrive/Dataset/brixia_raw_monochrome_306/BRIXIA_RAW_MONOCRHOME_RS0_test_v1.csv\", usecols = use_cols)\n",
        "# annot_val = pd.read_csv(\"/content/drive/MyDrive/Dataset/brixia_raw_monochrome_306/BRIXIA_RAW_MONOCRHOME_RS0_val_v1.csv\", usecols = use_cols)"
      ],
      "execution_count": null,
      "outputs": []
    },
    {
      "cell_type": "code",
      "metadata": {
        "id": "ZZ3h3d-sVtC9"
      },
      "source": [
        "train_dir = os.path.join(IMG_DIR, \"train\")\n",
        "val_dir = os.path.join(IMG_DIR, \"val\")\n",
        "test_dir = os.path.join(IMG_DIR, \"test\")\n",
        "\n",
        "transforms = T.Compose([T.Resize(size = (224, 224)), T.Grayscale(), T.ToTensor()])\n",
        "# print(train_dir)\n",
        "train_data = ImageFolder(root = train_dir, transform = transforms)\n",
        "train_dl = DataLoader(train_data, BATCH_SIZE, shuffle = True, num_workers = 4)\n",
        "\n",
        "val_data = ImageFolder(root = val_dir, transform = transforms)\n",
        "val_dl = DataLoader(val_data, BATCH_SIZE, shuffle = True, num_workers = 4)\n",
        "\n",
        "test_data = ImageFolder(root = test_dir, transform = transforms)\n",
        "test_dl = DataLoader(test_data, BATCH_SIZE, shuffle = True, num_workers = 4)"
      ],
      "execution_count": null,
      "outputs": []
    },
    {
      "cell_type": "code",
      "metadata": {
        "id": "jsezvfnaeTF2"
      },
      "source": [
        "# img, label = next(iter(val_dl))\n",
        "# torch.max(img) ## Already normalized!"
      ],
      "execution_count": null,
      "outputs": []
    },
    {
      "cell_type": "markdown",
      "metadata": {
        "id": "o6jH7yU-fcmm"
      },
      "source": [
        ""
      ]
    },
    {
      "cell_type": "code",
      "metadata": {
        "id": "l5kkWg4Jdu18"
      },
      "source": [
        "img_datasets = {x: datasets.ImageFolder(os.path.join(IMG_DIR, x), transform = transforms) for x in ['train', 'val']}\n",
        "dataloaders = {x: DataLoader(img_datasets[x], BATCH_SIZE, shuffle = True, num_workers = 4) for x in ['train', 'val']}\n",
        "dataset_sizes = {x: len(img_datasets[x]) for x in ['train', 'val']}\n",
        "class_names = img_datasets['train'].classes"
      ],
      "execution_count": null,
      "outputs": []
    },
    {
      "cell_type": "code",
      "metadata": {
        "colab": {
          "base_uri": "https://localhost:8080/"
        },
        "id": "i4uvRvJAvIbv",
        "outputId": "29f6c858-0130-40c0-8e1f-d7fd8d3d31be"
      },
      "source": [
        "next(iter(val_dl))"
      ],
      "execution_count": null,
      "outputs": [
        {
          "output_type": "execute_result",
          "data": {
            "text/plain": [
              "[tensor([[[[0.2941, 0.1490, 0.0549,  ..., 0.0196, 0.0196, 0.0157],\n",
              "           [0.2549, 0.1216, 0.0431,  ..., 0.0196, 0.0196, 0.0157],\n",
              "           [0.2431, 0.1176, 0.0431,  ..., 0.0196, 0.0196, 0.0157],\n",
              "           ...,\n",
              "           [0.1843, 0.1059, 0.0549,  ..., 0.0039, 0.0000, 0.0000],\n",
              "           [0.2314, 0.1451, 0.0863,  ..., 0.0078, 0.0039, 0.0000],\n",
              "           [0.2980, 0.2078, 0.1333,  ..., 0.0275, 0.0196, 0.0157]]],\n",
              " \n",
              " \n",
              "         [[[0.1490, 0.1490, 0.1490,  ..., 0.1529, 0.1608, 0.1765],\n",
              "           [0.1490, 0.1451, 0.1412,  ..., 0.1451, 0.1529, 0.1686],\n",
              "           [0.1451, 0.1373, 0.1373,  ..., 0.1451, 0.1451, 0.1647],\n",
              "           ...,\n",
              "           [0.1333, 0.1255, 0.1255,  ..., 0.4314, 0.4078, 0.3725],\n",
              "           [0.1333, 0.1255, 0.1255,  ..., 0.4314, 0.4078, 0.3725],\n",
              "           [0.1333, 0.1294, 0.1294,  ..., 0.4157, 0.3922, 0.3608]]],\n",
              " \n",
              " \n",
              "         [[[0.7137, 0.6902, 0.6392,  ..., 0.0157, 0.0157, 0.0118],\n",
              "           [0.6784, 0.6275, 0.4784,  ..., 0.0118, 0.0118, 0.0078],\n",
              "           [0.6039, 0.4549, 0.2314,  ..., 0.0078, 0.0078, 0.0078],\n",
              "           ...,\n",
              "           [0.8471, 0.6824, 0.5059,  ..., 0.0118, 0.0118, 0.0118],\n",
              "           [0.8392, 0.6745, 0.5059,  ..., 0.0118, 0.0118, 0.0118],\n",
              "           [0.8353, 0.6667, 0.5098,  ..., 0.0157, 0.0157, 0.0118]]],\n",
              " \n",
              " \n",
              "         ...,\n",
              " \n",
              " \n",
              "         [[[0.2471, 0.1020, 0.0235,  ..., 0.0000, 0.0000, 0.0000],\n",
              "           [0.2392, 0.0980, 0.0196,  ..., 0.0000, 0.0000, 0.0000],\n",
              "           [0.2392, 0.0980, 0.0196,  ..., 0.0000, 0.0000, 0.0000],\n",
              "           ...,\n",
              "           [0.1020, 0.0431, 0.0157,  ..., 0.0000, 0.0078, 0.0196],\n",
              "           [0.1412, 0.0706, 0.0353,  ..., 0.0078, 0.0196, 0.0314],\n",
              "           [0.1882, 0.1098, 0.0706,  ..., 0.0157, 0.0314, 0.0471]]],\n",
              " \n",
              " \n",
              "         [[[0.1765, 0.2980, 0.1608,  ..., 0.0039, 0.0039, 0.0039],\n",
              "           [0.1647, 0.2745, 0.1529,  ..., 0.0039, 0.0039, 0.0039],\n",
              "           [0.1529, 0.2588, 0.1451,  ..., 0.0039, 0.0039, 0.0039],\n",
              "           ...,\n",
              "           [0.0039, 0.0039, 0.0039,  ..., 0.0039, 0.0039, 0.0039],\n",
              "           [0.0039, 0.0039, 0.0039,  ..., 0.0039, 0.0039, 0.0039],\n",
              "           [0.0039, 0.0039, 0.0039,  ..., 0.0039, 0.0039, 0.0039]]],\n",
              " \n",
              " \n",
              "         [[[0.1373, 0.1373, 0.1333,  ..., 0.1922, 0.2039, 0.2235],\n",
              "           [0.1412, 0.1373, 0.1373,  ..., 0.1843, 0.1922, 0.2196],\n",
              "           [0.1412, 0.1373, 0.1373,  ..., 0.1843, 0.1922, 0.2157],\n",
              "           ...,\n",
              "           [0.7451, 0.7529, 0.7451,  ..., 0.8353, 0.8353, 0.8314],\n",
              "           [0.7451, 0.7569, 0.7490,  ..., 0.8431, 0.8431, 0.8353],\n",
              "           [0.7216, 0.7294, 0.7216,  ..., 0.8196, 0.8275, 0.8196]]]]),\n",
              " tensor([1, 0, 1, 1, 0, 1, 0, 1, 0, 0, 1, 0, 1, 1, 0, 0, 1, 1, 1, 1, 0, 1, 1, 1,\n",
              "         1, 0, 0, 1, 0, 0, 0, 1, 1, 0, 1, 0, 1, 0, 1, 1, 0, 1, 1, 0, 1, 0, 1, 0,\n",
              "         0, 0, 0, 1, 0, 0, 1, 1, 1, 1, 0, 1, 0, 0, 0, 1, 1, 1, 0, 1, 1, 0, 1, 0,\n",
              "         1, 1, 0, 0, 0, 0, 0, 1, 0, 1, 0, 1, 1, 0, 1, 0, 0, 0, 0, 1, 0, 0, 0, 1,\n",
              "         0, 0, 1, 0, 0, 1, 1, 1, 1, 1, 0, 0, 1, 0, 1, 0, 0, 0, 0, 0, 0, 1, 0, 1,\n",
              "         0, 0, 0, 0, 0, 1, 1, 0])]"
            ]
          },
          "metadata": {
            "tags": []
          },
          "execution_count": 11
        }
      ]
    },
    {
      "cell_type": "markdown",
      "metadata": {
        "id": "LXTy55zmc9MT"
      },
      "source": [
        "## Model Related\n"
      ]
    },
    {
      "cell_type": "code",
      "metadata": {
        "colab": {
          "base_uri": "https://localhost:8080/"
        },
        "id": "SVVmheKYc_CK",
        "outputId": "db6fc526-e943-4168-c377-c7daa03e041a"
      },
      "source": [
        "device = torch.device(\"cuda:0\" if torch.cuda.is_available() else \"cpu\")\n",
        "model_brixia = xrv.models.DenseNet(weights = 'all')\n",
        "for param in model_brixia.parameters():\n",
        "  param.requires_grad = False\n",
        "model_brixia.op_threshs = None\n",
        "model_brixia.to(device)"
      ],
      "execution_count": null,
      "outputs": [
        {
          "output_type": "execute_result",
          "data": {
            "text/plain": [
              "XRV-DenseNet121-all"
            ]
          },
          "metadata": {
            "tags": []
          },
          "execution_count": 18
        }
      ]
    },
    {
      "cell_type": "code",
      "metadata": {
        "id": "s3nq5sCzDCBL"
      },
      "source": [
        "def init_weights(m):\n",
        "    if type(m) == nn.Linear:\n",
        "        torch.nn.init.xavier_uniform(m.weight)\n",
        "        m.bias.data.fill_(0.01)"
      ],
      "execution_count": null,
      "outputs": []
    },
    {
      "cell_type": "code",
      "metadata": {
        "id": "9F96FJApgCzr"
      },
      "source": [
        "num_ftrs = model_brixia.classifier.in_features"
      ],
      "execution_count": null,
      "outputs": []
    },
    {
      "cell_type": "code",
      "metadata": {
        "id": "7jmwYKopc_yl"
      },
      "source": [
        "FFNN = nn.Sequential(\n",
        "    nn.Linear(in_features = num_ftrs, out_features = 2))\n",
        "FFNN.apply(init_weights)\n",
        "model_brixia.classifier = FFNN.to(device)"
      ],
      "execution_count": null,
      "outputs": []
    },
    {
      "cell_type": "code",
      "metadata": {
        "colab": {
          "base_uri": "https://localhost:8080/"
        },
        "id": "bhAMDrVlgRwz",
        "outputId": "e1a5dd74-4ee1-47d9-caf5-24c336532a7e"
      },
      "source": [
        "torchsummary.summary(model_brixia, (1, 224, 224))"
      ],
      "execution_count": null,
      "outputs": [
        {
          "output_type": "stream",
          "text": [
            "----------------------------------------------------------------\n",
            "        Layer (type)               Output Shape         Param #\n",
            "================================================================\n",
            "            Conv2d-1         [-1, 64, 112, 112]           3,136\n",
            "       BatchNorm2d-2         [-1, 64, 112, 112]             128\n",
            "              ReLU-3         [-1, 64, 112, 112]               0\n",
            "         MaxPool2d-4           [-1, 64, 56, 56]               0\n",
            "       BatchNorm2d-5           [-1, 64, 56, 56]             128\n",
            "              ReLU-6           [-1, 64, 56, 56]               0\n",
            "            Conv2d-7          [-1, 128, 56, 56]           8,192\n",
            "       BatchNorm2d-8          [-1, 128, 56, 56]             256\n",
            "              ReLU-9          [-1, 128, 56, 56]               0\n",
            "           Conv2d-10           [-1, 32, 56, 56]          36,864\n",
            "      BatchNorm2d-11           [-1, 96, 56, 56]             192\n",
            "             ReLU-12           [-1, 96, 56, 56]               0\n",
            "           Conv2d-13          [-1, 128, 56, 56]          12,288\n",
            "      BatchNorm2d-14          [-1, 128, 56, 56]             256\n",
            "             ReLU-15          [-1, 128, 56, 56]               0\n",
            "           Conv2d-16           [-1, 32, 56, 56]          36,864\n",
            "      BatchNorm2d-17          [-1, 128, 56, 56]             256\n",
            "             ReLU-18          [-1, 128, 56, 56]               0\n",
            "           Conv2d-19          [-1, 128, 56, 56]          16,384\n",
            "      BatchNorm2d-20          [-1, 128, 56, 56]             256\n",
            "             ReLU-21          [-1, 128, 56, 56]               0\n",
            "           Conv2d-22           [-1, 32, 56, 56]          36,864\n",
            "      BatchNorm2d-23          [-1, 160, 56, 56]             320\n",
            "             ReLU-24          [-1, 160, 56, 56]               0\n",
            "           Conv2d-25          [-1, 128, 56, 56]          20,480\n",
            "      BatchNorm2d-26          [-1, 128, 56, 56]             256\n",
            "             ReLU-27          [-1, 128, 56, 56]               0\n",
            "           Conv2d-28           [-1, 32, 56, 56]          36,864\n",
            "      BatchNorm2d-29          [-1, 192, 56, 56]             384\n",
            "             ReLU-30          [-1, 192, 56, 56]               0\n",
            "           Conv2d-31          [-1, 128, 56, 56]          24,576\n",
            "      BatchNorm2d-32          [-1, 128, 56, 56]             256\n",
            "             ReLU-33          [-1, 128, 56, 56]               0\n",
            "           Conv2d-34           [-1, 32, 56, 56]          36,864\n",
            "      BatchNorm2d-35          [-1, 224, 56, 56]             448\n",
            "             ReLU-36          [-1, 224, 56, 56]               0\n",
            "           Conv2d-37          [-1, 128, 56, 56]          28,672\n",
            "      BatchNorm2d-38          [-1, 128, 56, 56]             256\n",
            "             ReLU-39          [-1, 128, 56, 56]               0\n",
            "           Conv2d-40           [-1, 32, 56, 56]          36,864\n",
            "      BatchNorm2d-41          [-1, 256, 56, 56]             512\n",
            "             ReLU-42          [-1, 256, 56, 56]               0\n",
            "           Conv2d-43          [-1, 128, 56, 56]          32,768\n",
            "        AvgPool2d-44          [-1, 128, 28, 28]               0\n",
            "      BatchNorm2d-45          [-1, 128, 28, 28]             256\n",
            "             ReLU-46          [-1, 128, 28, 28]               0\n",
            "           Conv2d-47          [-1, 128, 28, 28]          16,384\n",
            "      BatchNorm2d-48          [-1, 128, 28, 28]             256\n",
            "             ReLU-49          [-1, 128, 28, 28]               0\n",
            "           Conv2d-50           [-1, 32, 28, 28]          36,864\n",
            "      BatchNorm2d-51          [-1, 160, 28, 28]             320\n",
            "             ReLU-52          [-1, 160, 28, 28]               0\n",
            "           Conv2d-53          [-1, 128, 28, 28]          20,480\n",
            "      BatchNorm2d-54          [-1, 128, 28, 28]             256\n",
            "             ReLU-55          [-1, 128, 28, 28]               0\n",
            "           Conv2d-56           [-1, 32, 28, 28]          36,864\n",
            "      BatchNorm2d-57          [-1, 192, 28, 28]             384\n",
            "             ReLU-58          [-1, 192, 28, 28]               0\n",
            "           Conv2d-59          [-1, 128, 28, 28]          24,576\n",
            "      BatchNorm2d-60          [-1, 128, 28, 28]             256\n",
            "             ReLU-61          [-1, 128, 28, 28]               0\n",
            "           Conv2d-62           [-1, 32, 28, 28]          36,864\n",
            "      BatchNorm2d-63          [-1, 224, 28, 28]             448\n",
            "             ReLU-64          [-1, 224, 28, 28]               0\n",
            "           Conv2d-65          [-1, 128, 28, 28]          28,672\n",
            "      BatchNorm2d-66          [-1, 128, 28, 28]             256\n",
            "             ReLU-67          [-1, 128, 28, 28]               0\n",
            "           Conv2d-68           [-1, 32, 28, 28]          36,864\n",
            "      BatchNorm2d-69          [-1, 256, 28, 28]             512\n",
            "             ReLU-70          [-1, 256, 28, 28]               0\n",
            "           Conv2d-71          [-1, 128, 28, 28]          32,768\n",
            "      BatchNorm2d-72          [-1, 128, 28, 28]             256\n",
            "             ReLU-73          [-1, 128, 28, 28]               0\n",
            "           Conv2d-74           [-1, 32, 28, 28]          36,864\n",
            "      BatchNorm2d-75          [-1, 288, 28, 28]             576\n",
            "             ReLU-76          [-1, 288, 28, 28]               0\n",
            "           Conv2d-77          [-1, 128, 28, 28]          36,864\n",
            "      BatchNorm2d-78          [-1, 128, 28, 28]             256\n",
            "             ReLU-79          [-1, 128, 28, 28]               0\n",
            "           Conv2d-80           [-1, 32, 28, 28]          36,864\n",
            "      BatchNorm2d-81          [-1, 320, 28, 28]             640\n",
            "             ReLU-82          [-1, 320, 28, 28]               0\n",
            "           Conv2d-83          [-1, 128, 28, 28]          40,960\n",
            "      BatchNorm2d-84          [-1, 128, 28, 28]             256\n",
            "             ReLU-85          [-1, 128, 28, 28]               0\n",
            "           Conv2d-86           [-1, 32, 28, 28]          36,864\n",
            "      BatchNorm2d-87          [-1, 352, 28, 28]             704\n",
            "             ReLU-88          [-1, 352, 28, 28]               0\n",
            "           Conv2d-89          [-1, 128, 28, 28]          45,056\n",
            "      BatchNorm2d-90          [-1, 128, 28, 28]             256\n",
            "             ReLU-91          [-1, 128, 28, 28]               0\n",
            "           Conv2d-92           [-1, 32, 28, 28]          36,864\n",
            "      BatchNorm2d-93          [-1, 384, 28, 28]             768\n",
            "             ReLU-94          [-1, 384, 28, 28]               0\n",
            "           Conv2d-95          [-1, 128, 28, 28]          49,152\n",
            "      BatchNorm2d-96          [-1, 128, 28, 28]             256\n",
            "             ReLU-97          [-1, 128, 28, 28]               0\n",
            "           Conv2d-98           [-1, 32, 28, 28]          36,864\n",
            "      BatchNorm2d-99          [-1, 416, 28, 28]             832\n",
            "            ReLU-100          [-1, 416, 28, 28]               0\n",
            "          Conv2d-101          [-1, 128, 28, 28]          53,248\n",
            "     BatchNorm2d-102          [-1, 128, 28, 28]             256\n",
            "            ReLU-103          [-1, 128, 28, 28]               0\n",
            "          Conv2d-104           [-1, 32, 28, 28]          36,864\n",
            "     BatchNorm2d-105          [-1, 448, 28, 28]             896\n",
            "            ReLU-106          [-1, 448, 28, 28]               0\n",
            "          Conv2d-107          [-1, 128, 28, 28]          57,344\n",
            "     BatchNorm2d-108          [-1, 128, 28, 28]             256\n",
            "            ReLU-109          [-1, 128, 28, 28]               0\n",
            "          Conv2d-110           [-1, 32, 28, 28]          36,864\n",
            "     BatchNorm2d-111          [-1, 480, 28, 28]             960\n",
            "            ReLU-112          [-1, 480, 28, 28]               0\n",
            "          Conv2d-113          [-1, 128, 28, 28]          61,440\n",
            "     BatchNorm2d-114          [-1, 128, 28, 28]             256\n",
            "            ReLU-115          [-1, 128, 28, 28]               0\n",
            "          Conv2d-116           [-1, 32, 28, 28]          36,864\n",
            "     BatchNorm2d-117          [-1, 512, 28, 28]           1,024\n",
            "            ReLU-118          [-1, 512, 28, 28]               0\n",
            "          Conv2d-119          [-1, 256, 28, 28]         131,072\n",
            "       AvgPool2d-120          [-1, 256, 14, 14]               0\n",
            "     BatchNorm2d-121          [-1, 256, 14, 14]             512\n",
            "            ReLU-122          [-1, 256, 14, 14]               0\n",
            "          Conv2d-123          [-1, 128, 14, 14]          32,768\n",
            "     BatchNorm2d-124          [-1, 128, 14, 14]             256\n",
            "            ReLU-125          [-1, 128, 14, 14]               0\n",
            "          Conv2d-126           [-1, 32, 14, 14]          36,864\n",
            "     BatchNorm2d-127          [-1, 288, 14, 14]             576\n",
            "            ReLU-128          [-1, 288, 14, 14]               0\n",
            "          Conv2d-129          [-1, 128, 14, 14]          36,864\n",
            "     BatchNorm2d-130          [-1, 128, 14, 14]             256\n",
            "            ReLU-131          [-1, 128, 14, 14]               0\n",
            "          Conv2d-132           [-1, 32, 14, 14]          36,864\n",
            "     BatchNorm2d-133          [-1, 320, 14, 14]             640\n",
            "            ReLU-134          [-1, 320, 14, 14]               0\n",
            "          Conv2d-135          [-1, 128, 14, 14]          40,960\n",
            "     BatchNorm2d-136          [-1, 128, 14, 14]             256\n",
            "            ReLU-137          [-1, 128, 14, 14]               0\n",
            "          Conv2d-138           [-1, 32, 14, 14]          36,864\n",
            "     BatchNorm2d-139          [-1, 352, 14, 14]             704\n",
            "            ReLU-140          [-1, 352, 14, 14]               0\n",
            "          Conv2d-141          [-1, 128, 14, 14]          45,056\n",
            "     BatchNorm2d-142          [-1, 128, 14, 14]             256\n",
            "            ReLU-143          [-1, 128, 14, 14]               0\n",
            "          Conv2d-144           [-1, 32, 14, 14]          36,864\n",
            "     BatchNorm2d-145          [-1, 384, 14, 14]             768\n",
            "            ReLU-146          [-1, 384, 14, 14]               0\n",
            "          Conv2d-147          [-1, 128, 14, 14]          49,152\n",
            "     BatchNorm2d-148          [-1, 128, 14, 14]             256\n",
            "            ReLU-149          [-1, 128, 14, 14]               0\n",
            "          Conv2d-150           [-1, 32, 14, 14]          36,864\n",
            "     BatchNorm2d-151          [-1, 416, 14, 14]             832\n",
            "            ReLU-152          [-1, 416, 14, 14]               0\n",
            "          Conv2d-153          [-1, 128, 14, 14]          53,248\n",
            "     BatchNorm2d-154          [-1, 128, 14, 14]             256\n",
            "            ReLU-155          [-1, 128, 14, 14]               0\n",
            "          Conv2d-156           [-1, 32, 14, 14]          36,864\n",
            "     BatchNorm2d-157          [-1, 448, 14, 14]             896\n",
            "            ReLU-158          [-1, 448, 14, 14]               0\n",
            "          Conv2d-159          [-1, 128, 14, 14]          57,344\n",
            "     BatchNorm2d-160          [-1, 128, 14, 14]             256\n",
            "            ReLU-161          [-1, 128, 14, 14]               0\n",
            "          Conv2d-162           [-1, 32, 14, 14]          36,864\n",
            "     BatchNorm2d-163          [-1, 480, 14, 14]             960\n",
            "            ReLU-164          [-1, 480, 14, 14]               0\n",
            "          Conv2d-165          [-1, 128, 14, 14]          61,440\n",
            "     BatchNorm2d-166          [-1, 128, 14, 14]             256\n",
            "            ReLU-167          [-1, 128, 14, 14]               0\n",
            "          Conv2d-168           [-1, 32, 14, 14]          36,864\n",
            "     BatchNorm2d-169          [-1, 512, 14, 14]           1,024\n",
            "            ReLU-170          [-1, 512, 14, 14]               0\n",
            "          Conv2d-171          [-1, 128, 14, 14]          65,536\n",
            "     BatchNorm2d-172          [-1, 128, 14, 14]             256\n",
            "            ReLU-173          [-1, 128, 14, 14]               0\n",
            "          Conv2d-174           [-1, 32, 14, 14]          36,864\n",
            "     BatchNorm2d-175          [-1, 544, 14, 14]           1,088\n",
            "            ReLU-176          [-1, 544, 14, 14]               0\n",
            "          Conv2d-177          [-1, 128, 14, 14]          69,632\n",
            "     BatchNorm2d-178          [-1, 128, 14, 14]             256\n",
            "            ReLU-179          [-1, 128, 14, 14]               0\n",
            "          Conv2d-180           [-1, 32, 14, 14]          36,864\n",
            "     BatchNorm2d-181          [-1, 576, 14, 14]           1,152\n",
            "            ReLU-182          [-1, 576, 14, 14]               0\n",
            "          Conv2d-183          [-1, 128, 14, 14]          73,728\n",
            "     BatchNorm2d-184          [-1, 128, 14, 14]             256\n",
            "            ReLU-185          [-1, 128, 14, 14]               0\n",
            "          Conv2d-186           [-1, 32, 14, 14]          36,864\n",
            "     BatchNorm2d-187          [-1, 608, 14, 14]           1,216\n",
            "            ReLU-188          [-1, 608, 14, 14]               0\n",
            "          Conv2d-189          [-1, 128, 14, 14]          77,824\n",
            "     BatchNorm2d-190          [-1, 128, 14, 14]             256\n",
            "            ReLU-191          [-1, 128, 14, 14]               0\n",
            "          Conv2d-192           [-1, 32, 14, 14]          36,864\n",
            "     BatchNorm2d-193          [-1, 640, 14, 14]           1,280\n",
            "            ReLU-194          [-1, 640, 14, 14]               0\n",
            "          Conv2d-195          [-1, 128, 14, 14]          81,920\n",
            "     BatchNorm2d-196          [-1, 128, 14, 14]             256\n",
            "            ReLU-197          [-1, 128, 14, 14]               0\n",
            "          Conv2d-198           [-1, 32, 14, 14]          36,864\n",
            "     BatchNorm2d-199          [-1, 672, 14, 14]           1,344\n",
            "            ReLU-200          [-1, 672, 14, 14]               0\n",
            "          Conv2d-201          [-1, 128, 14, 14]          86,016\n",
            "     BatchNorm2d-202          [-1, 128, 14, 14]             256\n",
            "            ReLU-203          [-1, 128, 14, 14]               0\n",
            "          Conv2d-204           [-1, 32, 14, 14]          36,864\n",
            "     BatchNorm2d-205          [-1, 704, 14, 14]           1,408\n",
            "            ReLU-206          [-1, 704, 14, 14]               0\n",
            "          Conv2d-207          [-1, 128, 14, 14]          90,112\n",
            "     BatchNorm2d-208          [-1, 128, 14, 14]             256\n",
            "            ReLU-209          [-1, 128, 14, 14]               0\n",
            "          Conv2d-210           [-1, 32, 14, 14]          36,864\n",
            "     BatchNorm2d-211          [-1, 736, 14, 14]           1,472\n",
            "            ReLU-212          [-1, 736, 14, 14]               0\n",
            "          Conv2d-213          [-1, 128, 14, 14]          94,208\n",
            "     BatchNorm2d-214          [-1, 128, 14, 14]             256\n",
            "            ReLU-215          [-1, 128, 14, 14]               0\n",
            "          Conv2d-216           [-1, 32, 14, 14]          36,864\n",
            "     BatchNorm2d-217          [-1, 768, 14, 14]           1,536\n",
            "            ReLU-218          [-1, 768, 14, 14]               0\n",
            "          Conv2d-219          [-1, 128, 14, 14]          98,304\n",
            "     BatchNorm2d-220          [-1, 128, 14, 14]             256\n",
            "            ReLU-221          [-1, 128, 14, 14]               0\n",
            "          Conv2d-222           [-1, 32, 14, 14]          36,864\n",
            "     BatchNorm2d-223          [-1, 800, 14, 14]           1,600\n",
            "            ReLU-224          [-1, 800, 14, 14]               0\n",
            "          Conv2d-225          [-1, 128, 14, 14]         102,400\n",
            "     BatchNorm2d-226          [-1, 128, 14, 14]             256\n",
            "            ReLU-227          [-1, 128, 14, 14]               0\n",
            "          Conv2d-228           [-1, 32, 14, 14]          36,864\n",
            "     BatchNorm2d-229          [-1, 832, 14, 14]           1,664\n",
            "            ReLU-230          [-1, 832, 14, 14]               0\n",
            "          Conv2d-231          [-1, 128, 14, 14]         106,496\n",
            "     BatchNorm2d-232          [-1, 128, 14, 14]             256\n",
            "            ReLU-233          [-1, 128, 14, 14]               0\n",
            "          Conv2d-234           [-1, 32, 14, 14]          36,864\n",
            "     BatchNorm2d-235          [-1, 864, 14, 14]           1,728\n",
            "            ReLU-236          [-1, 864, 14, 14]               0\n",
            "          Conv2d-237          [-1, 128, 14, 14]         110,592\n",
            "     BatchNorm2d-238          [-1, 128, 14, 14]             256\n",
            "            ReLU-239          [-1, 128, 14, 14]               0\n",
            "          Conv2d-240           [-1, 32, 14, 14]          36,864\n",
            "     BatchNorm2d-241          [-1, 896, 14, 14]           1,792\n",
            "            ReLU-242          [-1, 896, 14, 14]               0\n",
            "          Conv2d-243          [-1, 128, 14, 14]         114,688\n",
            "     BatchNorm2d-244          [-1, 128, 14, 14]             256\n",
            "            ReLU-245          [-1, 128, 14, 14]               0\n",
            "          Conv2d-246           [-1, 32, 14, 14]          36,864\n",
            "     BatchNorm2d-247          [-1, 928, 14, 14]           1,856\n",
            "            ReLU-248          [-1, 928, 14, 14]               0\n",
            "          Conv2d-249          [-1, 128, 14, 14]         118,784\n",
            "     BatchNorm2d-250          [-1, 128, 14, 14]             256\n",
            "            ReLU-251          [-1, 128, 14, 14]               0\n",
            "          Conv2d-252           [-1, 32, 14, 14]          36,864\n",
            "     BatchNorm2d-253          [-1, 960, 14, 14]           1,920\n",
            "            ReLU-254          [-1, 960, 14, 14]               0\n",
            "          Conv2d-255          [-1, 128, 14, 14]         122,880\n",
            "     BatchNorm2d-256          [-1, 128, 14, 14]             256\n",
            "            ReLU-257          [-1, 128, 14, 14]               0\n",
            "          Conv2d-258           [-1, 32, 14, 14]          36,864\n",
            "     BatchNorm2d-259          [-1, 992, 14, 14]           1,984\n",
            "            ReLU-260          [-1, 992, 14, 14]               0\n",
            "          Conv2d-261          [-1, 128, 14, 14]         126,976\n",
            "     BatchNorm2d-262          [-1, 128, 14, 14]             256\n",
            "            ReLU-263          [-1, 128, 14, 14]               0\n",
            "          Conv2d-264           [-1, 32, 14, 14]          36,864\n",
            "     BatchNorm2d-265         [-1, 1024, 14, 14]           2,048\n",
            "            ReLU-266         [-1, 1024, 14, 14]               0\n",
            "          Conv2d-267          [-1, 512, 14, 14]         524,288\n",
            "       AvgPool2d-268            [-1, 512, 7, 7]               0\n",
            "     BatchNorm2d-269            [-1, 512, 7, 7]           1,024\n",
            "            ReLU-270            [-1, 512, 7, 7]               0\n",
            "          Conv2d-271            [-1, 128, 7, 7]          65,536\n",
            "     BatchNorm2d-272            [-1, 128, 7, 7]             256\n",
            "            ReLU-273            [-1, 128, 7, 7]               0\n",
            "          Conv2d-274             [-1, 32, 7, 7]          36,864\n",
            "     BatchNorm2d-275            [-1, 544, 7, 7]           1,088\n",
            "            ReLU-276            [-1, 544, 7, 7]               0\n",
            "          Conv2d-277            [-1, 128, 7, 7]          69,632\n",
            "     BatchNorm2d-278            [-1, 128, 7, 7]             256\n",
            "            ReLU-279            [-1, 128, 7, 7]               0\n",
            "          Conv2d-280             [-1, 32, 7, 7]          36,864\n",
            "     BatchNorm2d-281            [-1, 576, 7, 7]           1,152\n",
            "            ReLU-282            [-1, 576, 7, 7]               0\n",
            "          Conv2d-283            [-1, 128, 7, 7]          73,728\n",
            "     BatchNorm2d-284            [-1, 128, 7, 7]             256\n",
            "            ReLU-285            [-1, 128, 7, 7]               0\n",
            "          Conv2d-286             [-1, 32, 7, 7]          36,864\n",
            "     BatchNorm2d-287            [-1, 608, 7, 7]           1,216\n",
            "            ReLU-288            [-1, 608, 7, 7]               0\n",
            "          Conv2d-289            [-1, 128, 7, 7]          77,824\n",
            "     BatchNorm2d-290            [-1, 128, 7, 7]             256\n",
            "            ReLU-291            [-1, 128, 7, 7]               0\n",
            "          Conv2d-292             [-1, 32, 7, 7]          36,864\n",
            "     BatchNorm2d-293            [-1, 640, 7, 7]           1,280\n",
            "            ReLU-294            [-1, 640, 7, 7]               0\n",
            "          Conv2d-295            [-1, 128, 7, 7]          81,920\n",
            "     BatchNorm2d-296            [-1, 128, 7, 7]             256\n",
            "            ReLU-297            [-1, 128, 7, 7]               0\n",
            "          Conv2d-298             [-1, 32, 7, 7]          36,864\n",
            "     BatchNorm2d-299            [-1, 672, 7, 7]           1,344\n",
            "            ReLU-300            [-1, 672, 7, 7]               0\n",
            "          Conv2d-301            [-1, 128, 7, 7]          86,016\n",
            "     BatchNorm2d-302            [-1, 128, 7, 7]             256\n",
            "            ReLU-303            [-1, 128, 7, 7]               0\n",
            "          Conv2d-304             [-1, 32, 7, 7]          36,864\n",
            "     BatchNorm2d-305            [-1, 704, 7, 7]           1,408\n",
            "            ReLU-306            [-1, 704, 7, 7]               0\n",
            "          Conv2d-307            [-1, 128, 7, 7]          90,112\n",
            "     BatchNorm2d-308            [-1, 128, 7, 7]             256\n",
            "            ReLU-309            [-1, 128, 7, 7]               0\n",
            "          Conv2d-310             [-1, 32, 7, 7]          36,864\n",
            "     BatchNorm2d-311            [-1, 736, 7, 7]           1,472\n",
            "            ReLU-312            [-1, 736, 7, 7]               0\n",
            "          Conv2d-313            [-1, 128, 7, 7]          94,208\n",
            "     BatchNorm2d-314            [-1, 128, 7, 7]             256\n",
            "            ReLU-315            [-1, 128, 7, 7]               0\n",
            "          Conv2d-316             [-1, 32, 7, 7]          36,864\n",
            "     BatchNorm2d-317            [-1, 768, 7, 7]           1,536\n",
            "            ReLU-318            [-1, 768, 7, 7]               0\n",
            "          Conv2d-319            [-1, 128, 7, 7]          98,304\n",
            "     BatchNorm2d-320            [-1, 128, 7, 7]             256\n",
            "            ReLU-321            [-1, 128, 7, 7]               0\n",
            "          Conv2d-322             [-1, 32, 7, 7]          36,864\n",
            "     BatchNorm2d-323            [-1, 800, 7, 7]           1,600\n",
            "            ReLU-324            [-1, 800, 7, 7]               0\n",
            "          Conv2d-325            [-1, 128, 7, 7]         102,400\n",
            "     BatchNorm2d-326            [-1, 128, 7, 7]             256\n",
            "            ReLU-327            [-1, 128, 7, 7]               0\n",
            "          Conv2d-328             [-1, 32, 7, 7]          36,864\n",
            "     BatchNorm2d-329            [-1, 832, 7, 7]           1,664\n",
            "            ReLU-330            [-1, 832, 7, 7]               0\n",
            "          Conv2d-331            [-1, 128, 7, 7]         106,496\n",
            "     BatchNorm2d-332            [-1, 128, 7, 7]             256\n",
            "            ReLU-333            [-1, 128, 7, 7]               0\n",
            "          Conv2d-334             [-1, 32, 7, 7]          36,864\n",
            "     BatchNorm2d-335            [-1, 864, 7, 7]           1,728\n",
            "            ReLU-336            [-1, 864, 7, 7]               0\n",
            "          Conv2d-337            [-1, 128, 7, 7]         110,592\n",
            "     BatchNorm2d-338            [-1, 128, 7, 7]             256\n",
            "            ReLU-339            [-1, 128, 7, 7]               0\n",
            "          Conv2d-340             [-1, 32, 7, 7]          36,864\n",
            "     BatchNorm2d-341            [-1, 896, 7, 7]           1,792\n",
            "            ReLU-342            [-1, 896, 7, 7]               0\n",
            "          Conv2d-343            [-1, 128, 7, 7]         114,688\n",
            "     BatchNorm2d-344            [-1, 128, 7, 7]             256\n",
            "            ReLU-345            [-1, 128, 7, 7]               0\n",
            "          Conv2d-346             [-1, 32, 7, 7]          36,864\n",
            "     BatchNorm2d-347            [-1, 928, 7, 7]           1,856\n",
            "            ReLU-348            [-1, 928, 7, 7]               0\n",
            "          Conv2d-349            [-1, 128, 7, 7]         118,784\n",
            "     BatchNorm2d-350            [-1, 128, 7, 7]             256\n",
            "            ReLU-351            [-1, 128, 7, 7]               0\n",
            "          Conv2d-352             [-1, 32, 7, 7]          36,864\n",
            "     BatchNorm2d-353            [-1, 960, 7, 7]           1,920\n",
            "            ReLU-354            [-1, 960, 7, 7]               0\n",
            "          Conv2d-355            [-1, 128, 7, 7]         122,880\n",
            "     BatchNorm2d-356            [-1, 128, 7, 7]             256\n",
            "            ReLU-357            [-1, 128, 7, 7]               0\n",
            "          Conv2d-358             [-1, 32, 7, 7]          36,864\n",
            "     BatchNorm2d-359            [-1, 992, 7, 7]           1,984\n",
            "            ReLU-360            [-1, 992, 7, 7]               0\n",
            "          Conv2d-361            [-1, 128, 7, 7]         126,976\n",
            "     BatchNorm2d-362            [-1, 128, 7, 7]             256\n",
            "            ReLU-363            [-1, 128, 7, 7]               0\n",
            "          Conv2d-364             [-1, 32, 7, 7]          36,864\n",
            "     BatchNorm2d-365           [-1, 1024, 7, 7]           2,048\n",
            "          Linear-366                    [-1, 2]           2,050\n",
            "================================================================\n",
            "Total params: 6,949,634\n",
            "Trainable params: 2,050\n",
            "Non-trainable params: 6,947,584\n",
            "----------------------------------------------------------------\n",
            "Input size (MB): 0.19\n",
            "Forward/backward pass size (MB): 294.19\n",
            "Params size (MB): 26.51\n",
            "Estimated Total Size (MB): 320.89\n",
            "----------------------------------------------------------------\n"
          ],
          "name": "stdout"
        }
      ]
    },
    {
      "cell_type": "code",
      "metadata": {
        "id": "qCQD9W5SgXtt"
      },
      "source": [
        "## To do: Training Script!\n",
        "def train_model(model, criterion, optimizer, scheduler, dataloaders, dataset_sizes, numEpochs):\n",
        "  \"\"\" Simple Train Function for PyTorch Model. Adapted from PyTorch tutorials \"\"\"\n",
        "  start_time = time.time()\n",
        "\n",
        "  best_WandB = copy.deepcopy(model.state_dict())\n",
        "  best_loss = np.inf \n",
        "  best_acc = 0.0\n",
        "  train_histLoss, val_histLoss = {}, {}\n",
        "  train_histAcc, val_histAcc = {}, {}\n",
        "  ## For all the epochs:\n",
        "  for epoch in tqdm(range(numEpochs)):\n",
        "    epoch_loss = 0.0\n",
        "    start_epoch = time.time()\n",
        "    if epoch % 15 == 0:\n",
        "      print(\"*\"*10)\n",
        "      print(\"Epoch {}/{}\".format(epoch + 1, numEpochs))\n",
        "      print(\"*\"*10)\n",
        "\n",
        "    ## For each phase: train vs val\n",
        "    for phase in ['train', 'val']:\n",
        "      if phase == 'train':\n",
        "        model.train()\n",
        "      else:\n",
        "        model.eval()\n",
        "\n",
        "      ## Tracking loss\n",
        "      running_loss = 0.0\n",
        "      running_accs = 0\n",
        "\n",
        "      ## For all phase data:\n",
        "      for imgs, labels in dataloaders[phase]:\n",
        "        imgs = imgs.to(device)\n",
        "        labels = labels.to(device)\n",
        "\n",
        "        ## Zero the gradients\n",
        "        optimizer.zero_grad()\n",
        "\n",
        "        # ## Epoch Stats\n",
        "        # epoch_loss += loss.item()\n",
        "\n",
        "        ## Forward Prop\n",
        "        with torch.set_grad_enabled(phase == 'train'):\n",
        "          outputs = model(imgs)\n",
        "          _, preds = torch.max(outputs, 1)\n",
        "          loss = criterion(outputs, labels)\n",
        "          ## Backward Prop\n",
        "          if phase == 'train':\n",
        "            loss.backward()\n",
        "            optimizer.step()\n",
        "\n",
        "        running_loss += loss.item() * imgs.size(0)\n",
        "        running_accs += torch.sum(preds == labels.data)\n",
        "      if phase == 'train' and scheduler is not None:\n",
        "        scheduler.step()\n",
        "\n",
        "      epoch_loss = running_loss / dataset_sizes[phase]\n",
        "      epoch_acc = running_accs.double() / dataset_sizes[phase]\n",
        "\n",
        "      if phase == 'train':\n",
        "        train_histLoss[epoch] = epoch_loss\n",
        "        train_histAcc[epoch] = epoch_acc\n",
        "      else:\n",
        "        val_histLoss[epoch] = epoch_loss\n",
        "        val_histAcc[epoch] = epoch_acc\n",
        "\n",
        "      if epoch % 50 == 0:\n",
        "        print(\"{}\\tLoss: {:.4f}\\tTime: {:.4f}\".format(phase, epoch_loss, time.time() - start_epoch))\n",
        "      ## Check for loss: ## We don't check for validation loss\n",
        "      ## Need to write a function for rmse \n",
        "\n",
        "\n",
        "      if phase == 'val' and best_acc < epoch_acc:\n",
        "        best_loss = epoch_loss\n",
        "        best_acc = epoch_acc\n",
        "        best_WandB = copy.deepcopy(model.state_dict())\n",
        "        torch.save({\n",
        "            'epoch': epoch,\n",
        "            'loss': epoch_loss,\n",
        "            'model_state': model.state_dict(),\n",
        "            'optimizer_state_dict': optimizer.state_dict()\n",
        "        }, os.path.join(MODEL_PATH, MODEL_NAME+\".pth\"))\n",
        "        print()\n",
        "        print(\"Epoch: \", epoch)\n",
        "        print(\"====> New Best Model!: {}\".format(MODEL_NAME))\n",
        "        print(\"Epoch Val Loss: {:.4f}\".format(epoch_loss))\n",
        "        print(\"Epoch Val Accs: {:.4f}\".format(epoch_acc))\n",
        "        print()\n",
        "        print(\"*\"*10)\n",
        "\n",
        "  ## Loading best model\n",
        "  print(\"Best MSE: {:.4f}\".format(best_loss))\n",
        "  print(\"Total Time: {:.4f}\".format(time.time() - start_time)) \n",
        "  \n",
        "  model.load_state_dict(best_WandB)\n",
        "  return model, train_histLoss, val_histLoss, train_histAcc, val_histAcc\n",
        "\n",
        "\n"
      ],
      "execution_count": null,
      "outputs": []
    },
    {
      "cell_type": "code",
      "metadata": {
        "id": "pXBqm-J_jPd6",
        "colab": {
          "base_uri": "https://localhost:8080/"
        },
        "outputId": "a9aa48c6-e9b8-4d69-a216-1fca75d5050e"
      },
      "source": [
        "EPOCHS = 150\n",
        "MODEL_NAME = \"_\".join((\"COVID_Qatar_RS\"+str(RANDOM_STATE),\"E\"+str(EPOCHS),\"BS\"+str(BATCH_SIZE), \"Clf_0Layers_WeightReg_v1\"))\n",
        "FLAG = 1\n",
        "criterion = nn.CrossEntropyLoss()\n",
        "optimizer = optim.Adam(model_brixia.parameters(), lr = LEARNING_RATE)\n",
        "device = torch.device(\"cuda:0\" if torch.cuda.is_available() else \"cpu\")\n",
        "if FLAG ==  0:\n",
        "  lr_scheduler = optim.lr_scheduler.StepLR(optimizer, gamma = 0.1, step_size = 10)\n",
        "else:\n",
        "  lr_scheduler = optim.lr_scheduler.CosineAnnealingLR(optimizer, len(train_dl), eta_min=0.0)\n",
        "print(MODEL_NAME)"
      ],
      "execution_count": null,
      "outputs": [
        {
          "output_type": "stream",
          "text": [
            "COVID_Qatar_RS0_E150_BS128_Clf_0Layers_WeightReg_v1\n"
          ],
          "name": "stdout"
        }
      ]
    },
    {
      "cell_type": "code",
      "metadata": {
        "colab": {
          "base_uri": "https://localhost:8080/",
          "height": 1000,
          "referenced_widgets": [
            "93972a278acf4f8f9c552c16756b93e0",
            "eaa7ac1ea99a4db4a44eb5a79d644d50",
            "1d68904d5b7a412db3ac695977ed3ace",
            "4f8657d541494e7d8ceb82cb20b2965d",
            "957358680ea1453a8b91eb44b350f391",
            "ef0da2acf7164c08a1247021967c2611",
            "8a9bccb21f3b49708acdb5d089d03ff5",
            "f5e373af65be49b1b929831e6c5bdb95"
          ]
        },
        "id": "Vuv3CwafjSOL",
        "outputId": "daf5670d-3745-4f08-fe12-c36bc365873c"
      },
      "source": [
        "## TODO: Tensorboard Visualization!\n",
        "## 100 Epochs: 5 mins\n",
        "model_brixia.to(device)\n",
        "model_brixia, train_losses, val_losses, train_accs, val_accs = train_model(model_brixia,\n",
        "                                                                     criterion, \n",
        "                                                                     optimizer, \n",
        "                                                                     None, \n",
        "                                                                     dataloaders, \n",
        "                                                                     dataset_sizes, \n",
        "                                                                     EPOCHS)"
      ],
      "execution_count": null,
      "outputs": [
        {
          "output_type": "display_data",
          "data": {
            "application/vnd.jupyter.widget-view+json": {
              "model_id": "93972a278acf4f8f9c552c16756b93e0",
              "version_minor": 0,
              "version_major": 2
            },
            "text/plain": [
              "HBox(children=(FloatProgress(value=0.0, max=150.0), HTML(value='')))"
            ]
          },
          "metadata": {
            "tags": []
          }
        },
        {
          "output_type": "stream",
          "text": [
            "**********\n",
            "Epoch 1/150\n",
            "**********\n",
            "train\tLoss: 0.4941\tTime: 2.0882\n",
            "val\tLoss: 1.2165\tTime: 3.3151\n",
            "\n",
            "Epoch:  0\n",
            "====> New Best Model!: COVID_Qatar_RS0_E150_BS128_Clf_0Layers_WeightReg_v1\n",
            "Epoch Val Loss: 1.2165\n",
            "Epoch Val Accs: 0.5000\n",
            "\n",
            "**********\n",
            "\n",
            "Epoch:  3\n",
            "====> New Best Model!: COVID_Qatar_RS0_E150_BS128_Clf_0Layers_WeightReg_v1\n",
            "Epoch Val Loss: 2.7464\n",
            "Epoch Val Accs: 0.5050\n",
            "\n",
            "**********\n",
            "\n",
            "Epoch:  8\n",
            "====> New Best Model!: COVID_Qatar_RS0_E150_BS128_Clf_0Layers_WeightReg_v1\n",
            "Epoch Val Loss: 2.9999\n",
            "Epoch Val Accs: 0.5100\n",
            "\n",
            "**********\n",
            "\n",
            "Epoch:  9\n",
            "====> New Best Model!: COVID_Qatar_RS0_E150_BS128_Clf_0Layers_WeightReg_v1\n",
            "Epoch Val Loss: 2.8674\n",
            "Epoch Val Accs: 0.5200\n",
            "\n",
            "**********\n",
            "**********\n",
            "Epoch 16/150\n",
            "**********\n",
            "**********\n",
            "Epoch 31/150\n",
            "**********\n",
            "**********\n",
            "Epoch 46/150\n",
            "**********\n",
            "train\tLoss: 0.0100\tTime: 1.8741\n",
            "val\tLoss: 4.7824\tTime: 2.9420\n",
            "**********\n",
            "Epoch 61/150\n",
            "**********\n",
            "**********\n",
            "Epoch 76/150\n",
            "**********\n",
            "**********\n",
            "Epoch 91/150\n",
            "**********\n",
            "train\tLoss: 0.0040\tTime: 1.8487\n",
            "val\tLoss: 5.9977\tTime: 2.9546\n",
            "**********\n",
            "Epoch 106/150\n",
            "**********\n",
            "**********\n",
            "Epoch 121/150\n",
            "**********\n",
            "**********\n",
            "Epoch 136/150\n",
            "**********\n",
            "\n",
            "Best MSE: 2.8674\n",
            "Total Time: 443.4388\n"
          ],
          "name": "stdout"
        }
      ]
    },
    {
      "cell_type": "code",
      "metadata": {
        "id": "tFG7whXsjYXz",
        "colab": {
          "base_uri": "https://localhost:8080/",
          "height": 461
        },
        "outputId": "04fae8f9-9f99-4aaa-d930-b5add7b8ac3b"
      },
      "source": [
        "plt.figure(figsize = (10,7))\n",
        "lists = sorted(train_losses.items())\n",
        "train_epoch, train_loss = zip(*lists[1:])\n",
        "lists = sorted(val_losses.items())\n",
        "val_epoch, val_loss = zip(*lists[1:])\n",
        "plt.plot(train_epoch, train_loss, label = 'Train')\n",
        "plt.plot(val_epoch, val_loss, label = 'Validation')\n",
        "plt.title(MODEL_NAME+\"_4 Layers - Cosine LR:\"+str(LEARNING_RATE))\n",
        "plt.legend()"
      ],
      "execution_count": null,
      "outputs": [
        {
          "output_type": "execute_result",
          "data": {
            "text/plain": [
              "<matplotlib.legend.Legend at 0x7fc46691f150>"
            ]
          },
          "metadata": {
            "tags": []
          },
          "execution_count": 143
        },
        {
          "output_type": "display_data",
          "data": {
            "image/png": "[encoded data removed]",
            "text/plain": [
              "<Figure size 720x504 with 1 Axes>"
            ]
          },
          "metadata": {
            "tags": [],
            "needs_background": "light"
          }
        }
      ]
    },
    {
      "cell_type": "code",
      "metadata": {
        "colab": {
          "base_uri": "https://localhost:8080/"
        },
        "id": "9iQUE7DlDrGH",
        "outputId": "7963aa5e-d493-4564-978d-53a20d5b0d6f"
      },
      "source": [
        "train_acc"
      ],
      "execution_count": null,
      "outputs": [
        {
          "output_type": "execute_result",
          "data": {
            "text/plain": [
              "(tensor(0.9901, device='cuda:0', dtype=torch.float64),\n",
              " tensor(0.9671, device='cuda:0', dtype=torch.float64),\n",
              " tensor(0.9885, device='cuda:0', dtype=torch.float64),\n",
              " tensor(0.9868, device='cuda:0', dtype=torch.float64),\n",
              " tensor(0.9885, device='cuda:0', dtype=torch.float64),\n",
              " tensor(0.9951, device='cuda:0', dtype=torch.float64),\n",
              " tensor(0.9852, device='cuda:0', dtype=torch.float64),\n",
              " tensor(0.9901, device='cuda:0', dtype=torch.float64),\n",
              " tensor(0.9868, device='cuda:0', dtype=torch.float64),\n",
              " tensor(0.9918, device='cuda:0', dtype=torch.float64),\n",
              " tensor(0.9885, device='cuda:0', dtype=torch.float64),\n",
              " tensor(0.9984, device='cuda:0', dtype=torch.float64),\n",
              " tensor(0.9967, device='cuda:0', dtype=torch.float64),\n",
              " tensor(0.9918, device='cuda:0', dtype=torch.float64),\n",
              " tensor(0.9984, device='cuda:0', dtype=torch.float64),\n",
              " tensor(1., device='cuda:0', dtype=torch.float64),\n",
              " tensor(0.9901, device='cuda:0', dtype=torch.float64),\n",
              " tensor(1., device='cuda:0', dtype=torch.float64),\n",
              " tensor(0.9984, device='cuda:0', dtype=torch.float64),\n",
              " tensor(0.9984, device='cuda:0', dtype=torch.float64),\n",
              " tensor(0.9951, device='cuda:0', dtype=torch.float64),\n",
              " tensor(0.9934, device='cuda:0', dtype=torch.float64),\n",
              " tensor(0.9951, device='cuda:0', dtype=torch.float64),\n",
              " tensor(0.9951, device='cuda:0', dtype=torch.float64),\n",
              " tensor(0.9984, device='cuda:0', dtype=torch.float64),\n",
              " tensor(0.9868, device='cuda:0', dtype=torch.float64),\n",
              " tensor(0.9984, device='cuda:0', dtype=torch.float64),\n",
              " tensor(0.9967, device='cuda:0', dtype=torch.float64),\n",
              " tensor(0.9984, device='cuda:0', dtype=torch.float64),\n",
              " tensor(0.9984, device='cuda:0', dtype=torch.float64),\n",
              " tensor(1., device='cuda:0', dtype=torch.float64),\n",
              " tensor(0.9967, device='cuda:0', dtype=torch.float64),\n",
              " tensor(0.9967, device='cuda:0', dtype=torch.float64),\n",
              " tensor(0.9967, device='cuda:0', dtype=torch.float64),\n",
              " tensor(0.9918, device='cuda:0', dtype=torch.float64),\n",
              " tensor(0.9984, device='cuda:0', dtype=torch.float64),\n",
              " tensor(0.9967, device='cuda:0', dtype=torch.float64),\n",
              " tensor(0.9951, device='cuda:0', dtype=torch.float64),\n",
              " tensor(0.9918, device='cuda:0', dtype=torch.float64),\n",
              " tensor(0.9934, device='cuda:0', dtype=torch.float64),\n",
              " tensor(0.9836, device='cuda:0', dtype=torch.float64),\n",
              " tensor(0.9967, device='cuda:0', dtype=torch.float64),\n",
              " tensor(0.9918, device='cuda:0', dtype=torch.float64),\n",
              " tensor(0.9918, device='cuda:0', dtype=torch.float64),\n",
              " tensor(0.9918, device='cuda:0', dtype=torch.float64),\n",
              " tensor(0.9967, device='cuda:0', dtype=torch.float64),\n",
              " tensor(0.9967, device='cuda:0', dtype=torch.float64),\n",
              " tensor(0.9984, device='cuda:0', dtype=torch.float64),\n",
              " tensor(0.9951, device='cuda:0', dtype=torch.float64),\n",
              " tensor(0.9951, device='cuda:0', dtype=torch.float64),\n",
              " tensor(0.9967, device='cuda:0', dtype=torch.float64),\n",
              " tensor(0.9951, device='cuda:0', dtype=torch.float64),\n",
              " tensor(0.9984, device='cuda:0', dtype=torch.float64),\n",
              " tensor(0.9951, device='cuda:0', dtype=torch.float64),\n",
              " tensor(0.9967, device='cuda:0', dtype=torch.float64),\n",
              " tensor(0.9984, device='cuda:0', dtype=torch.float64),\n",
              " tensor(0.9984, device='cuda:0', dtype=torch.float64),\n",
              " tensor(0.9951, device='cuda:0', dtype=torch.float64),\n",
              " tensor(0.9934, device='cuda:0', dtype=torch.float64),\n",
              " tensor(0.9984, device='cuda:0', dtype=torch.float64),\n",
              " tensor(0.9967, device='cuda:0', dtype=torch.float64),\n",
              " tensor(0.9967, device='cuda:0', dtype=torch.float64),\n",
              " tensor(0.9934, device='cuda:0', dtype=torch.float64),\n",
              " tensor(0.9885, device='cuda:0', dtype=torch.float64),\n",
              " tensor(0.9918, device='cuda:0', dtype=torch.float64),\n",
              " tensor(0.9934, device='cuda:0', dtype=torch.float64),\n",
              " tensor(0.9967, device='cuda:0', dtype=torch.float64),\n",
              " tensor(0.9984, device='cuda:0', dtype=torch.float64),\n",
              " tensor(0.9967, device='cuda:0', dtype=torch.float64),\n",
              " tensor(0.9984, device='cuda:0', dtype=torch.float64),\n",
              " tensor(0.9984, device='cuda:0', dtype=torch.float64),\n",
              " tensor(0.9967, device='cuda:0', dtype=torch.float64),\n",
              " tensor(0.9984, device='cuda:0', dtype=torch.float64),\n",
              " tensor(0.9951, device='cuda:0', dtype=torch.float64),\n",
              " tensor(0.9918, device='cuda:0', dtype=torch.float64),\n",
              " tensor(0.9967, device='cuda:0', dtype=torch.float64),\n",
              " tensor(0.9901, device='cuda:0', dtype=torch.float64),\n",
              " tensor(0.9984, device='cuda:0', dtype=torch.float64),\n",
              " tensor(0.9967, device='cuda:0', dtype=torch.float64),\n",
              " tensor(0.9967, device='cuda:0', dtype=torch.float64),\n",
              " tensor(0.9934, device='cuda:0', dtype=torch.float64),\n",
              " tensor(0.9984, device='cuda:0', dtype=torch.float64),\n",
              " tensor(0.9984, device='cuda:0', dtype=torch.float64),\n",
              " tensor(0.9951, device='cuda:0', dtype=torch.float64),\n",
              " tensor(0.9984, device='cuda:0', dtype=torch.float64),\n",
              " tensor(0.9951, device='cuda:0', dtype=torch.float64),\n",
              " tensor(0.9951, device='cuda:0', dtype=torch.float64),\n",
              " tensor(0.9984, device='cuda:0', dtype=torch.float64),\n",
              " tensor(0.9885, device='cuda:0', dtype=torch.float64),\n",
              " tensor(0.9984, device='cuda:0', dtype=torch.float64),\n",
              " tensor(0.9901, device='cuda:0', dtype=torch.float64),\n",
              " tensor(0.9934, device='cuda:0', dtype=torch.float64),\n",
              " tensor(0.9967, device='cuda:0', dtype=torch.float64),\n",
              " tensor(0.9934, device='cuda:0', dtype=torch.float64),\n",
              " tensor(0.9951, device='cuda:0', dtype=torch.float64),\n",
              " tensor(0.9984, device='cuda:0', dtype=torch.float64),\n",
              " tensor(0.9885, device='cuda:0', dtype=torch.float64),\n",
              " tensor(0.9967, device='cuda:0', dtype=torch.float64),\n",
              " tensor(0.9967, device='cuda:0', dtype=torch.float64))"
            ]
          },
          "metadata": {
            "tags": []
          },
          "execution_count": 95
        }
      ]
    },
    {
      "cell_type": "code",
      "metadata": {
        "colab": {
          "base_uri": "https://localhost:8080/",
          "height": 461
        },
        "id": "E2bC-zeh5iIl",
        "outputId": "328f0a11-c913-460e-c713-9ad4b496680d"
      },
      "source": [
        "plt.figure(figsize = (10,7))\n",
        "lists = sorted(train_accs.items())\n",
        "train_epoch, train_acc = zip(*lists[1:])\n",
        "lists = sorted(val_accs.items())\n",
        "val_epoch, val_acc = zip(*lists[1:])\n",
        "plt.plot(train_epoch, train_acc, label = 'Train')\n",
        "plt.plot(val_epoch, val_acc, label = 'Validation')\n",
        "plt.title(MODEL_NAME)\n",
        "plt.legend()"
      ],
      "execution_count": null,
      "outputs": [
        {
          "output_type": "execute_result",
          "data": {
            "text/plain": [
              "<matplotlib.legend.Legend at 0x7fc466972a10>"
            ]
          },
          "metadata": {
            "tags": []
          },
          "execution_count": 144
        },
        {
          "output_type": "display_data",
          "data": {
            "image/png": "[encoded data removed]",
            "text/plain": [
              "<Figure size 720x504 with 1 Axes>"
            ]
          },
          "metadata": {
            "tags": [],
            "needs_background": "light"
          }
        }
      ]
    },
    {
      "cell_type": "code",
      "metadata": {
        "id": "st8ejE7ujd64"
      },
      "source": [
        "def eval_model(model, criterion, eval_loader):\n",
        "  \"\"\" Simple Train Function for PyTorch Model. Adapted from PyTorch tutorials \"\"\"\n",
        "  start_time = time.time()\n",
        "  loss_hist = {}\n",
        "  model.eval()\n",
        "\n",
        "  ## Tracking loss\n",
        "  eval_loss = 0.0\n",
        "  eval_accs = 0.0\n",
        "  ## For Evaluation Data:\n",
        "  for imgs, labels in eval_loader:\n",
        "      imgs = imgs.to(device)\n",
        "      labels = labels.to(device)\n",
        "\n",
        "      ## Zero the gradients\n",
        "      optimizer.zero_grad()\n",
        "      outputs = model(imgs)\n",
        "      _, preds = torch.max(outputs, 1)\n",
        "      loss = criterion(outputs, labels)\n",
        "      eval_loss += loss.item() * imgs.size(0)\n",
        "      eval_accs += torch.sum(preds == labels.data)\n",
        "\n",
        "    \n",
        "   \n",
        "\n",
        "  eval_loss = eval_loss / len(eval_loader.dataset)\n",
        "  eval_acc = eval_accs.double() / len(eval_loader.dataset)\n",
        "  print(\"Loss: {:.4f}\".format(eval_loss))\n",
        "  print(\"Acc: {:.4f}\".format(eval_acc))\n",
        "  print(\"Time: {:.4f}\".format(time.time() - start_time))\n",
        "\n",
        "  return eval_loss, eval_acc\n",
        "\n",
        "\n"
      ],
      "execution_count": null,
      "outputs": []
    },
    {
      "cell_type": "code",
      "metadata": {
        "colab": {
          "base_uri": "https://localhost:8080/"
        },
        "id": "4qlVHZYTzTN5",
        "outputId": "ee2f3345-9193-45fc-d9ae-dacec72c0a72"
      },
      "source": [
        "eval_model(model_brixia, criterion, test_dl)"
      ],
      "execution_count": null,
      "outputs": [
        {
          "output_type": "stream",
          "text": [
            "Loss: 2.9973\n",
            "Acc: 0.4900\n",
            "Time: 1.1232\n"
          ],
          "name": "stdout"
        },
        {
          "output_type": "execute_result",
          "data": {
            "text/plain": [
              "(2.9972612380981447, tensor(0.4900, device='cuda:0', dtype=torch.float64))"
            ]
          },
          "metadata": {
            "tags": []
          },
          "execution_count": 44
        }
      ]
    },
    {
      "cell_type": "code",
      "metadata": {
        "id": "Z-NH450RzcvB",
        "colab": {
          "base_uri": "https://localhost:8080/"
        },
        "outputId": "9d14f103-26c5-4256-e9b9-b33a07beef38"
      },
      "source": [
        "eval_model(model_brixia, criterion, train_dl)"
      ],
      "execution_count": null,
      "outputs": [
        {
          "output_type": "stream",
          "text": [
            "Loss: 0.0273\n",
            "Acc: 0.9951\n",
            "Time: 1.8673\n"
          ],
          "name": "stdout"
        },
        {
          "output_type": "execute_result",
          "data": {
            "text/plain": [
              "(0.02729526926812373, tensor(0.9951, device='cuda:0', dtype=torch.float64))"
            ]
          },
          "metadata": {
            "tags": []
          },
          "execution_count": 45
        }
      ]
    },
    {
      "cell_type": "code",
      "metadata": {
        "id": "oMyHif-_HxYP"
      },
      "source": [
        ""
      ],
      "execution_count": null,
      "outputs": []
    }
  ]
}